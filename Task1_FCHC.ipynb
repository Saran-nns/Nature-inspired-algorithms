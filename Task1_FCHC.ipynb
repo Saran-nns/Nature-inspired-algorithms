{
 "cells": [
  {
   "cell_type": "markdown",
   "metadata": {
    "deletable": true,
    "editable": true
   },
   "source": [
    "# FCHC Algorithm\n",
    "\n",
    "#### Differs from traditional HC, we dont need \"Number of neighbors\" since the algorithm will search randomly for the neighbor looking uphill. \n",
    "\n",
    "\n",
    "1. Randomly choose some items (Ensure they are under or equal to weight limit: Feasibility)\n",
    "2. Evaluate the current solution i.e, determine the value of items in sack\n",
    "3. Loop:\n",
    "    3.1 Generate neighbouring solution\n",
    "    3.2 Evaluate the neighbor solution\n",
    "    3.3 Compare the current solution with the neighbor.\n",
    "    3.4 If neighbor solution is best:\n",
    "      current solution = neighbor solution\n",
    "      Else if: current solution doesn't change\n",
    "      break\n",
    "4. Best solution = Current Solution\n",
    "\n",
    "\n",
    "## Psudocode: \n",
    "\n",
    "#### Initialize the global variables problem defined\n",
    "\n",
    "    Items = list(items)                                     \n",
    "\n",
    "    NumberOfItems = len(Items)\n",
    "\n",
    "    ItemsValues = list(itemvalues)       \n",
    "\n",
    "    DesirableWeight W(Problem defined) \n",
    "\n",
    "#### User defined variables:\n",
    "\n",
    "    StepSize(int) - Preferably smaller to get good performance\n",
    "\n",
    "\n",
    "#### CurrentState can be initialized with two conditions separately\n",
    "\n",
    "    1. Initialize the CurrentState from ground state\n",
    "\n",
    "    CurrentState = [0]* NumberOfItems    \n",
    "\n",
    "    2. Initialize the CurrentState Randomly\n",
    "\n",
    "    CurrentState = random.randint(NumberOfItems)\n",
    "\n",
    "#### Measure the current weight and value of items in sack\n",
    "\n",
    "CurrentState, CurrentWeight, CurrentValue = CurrentSolution(CurrentState) \n",
    "\n",
    "#### \" Run Forest Run\"\n",
    "\n",
    "    do until optimal solution is met:\n",
    "    \n",
    "    Generate neighbors for CurrentState: \n",
    "    NewNeighbor(list) = GenerateNeighbor(CurrentState)\n",
    "    \n",
    "    Evaluate the neighbor:\n",
    "    Neighbor(list),NeighborWeight(int),NeighborValue(int) = EvaluateNeighbor(NewNeighbor)\n",
    "    \n",
    "    Compare the Neighbor with the CurrentState:\n",
    "    if NeighborWeight < DesirableWeight and NeighborValue > CurrentValue :\n",
    "        \n",
    "        CurrentState = Neighbor.copy()\n",
    "        CurrentWeight, CurrentValue = NeighborWeight, NeighborValue\n",
    "        iterations+=1\n",
    "        print(CurrentState,CurrentWeight, CurrentValue)\n",
    "        print(\"Number of Iterations\", iterations)\n",
    "        \n",
    "    elif CurrentValue == CurrentValue:\n",
    "        break \n",
    "        return CurrentState <-- BestSolution\n"
   ]
  },
  {
   "cell_type": "code",
   "execution_count": 74,
   "metadata": {
    "collapsed": true,
    "deletable": true,
    "editable": true
   },
   "outputs": [],
   "source": [
    "# Import required libraires\n",
    "import numpy as np\n",
    "import random\n",
    "import time"
   ]
  },
  {
   "cell_type": "code",
   "execution_count": 75,
   "metadata": {
    "collapsed": true,
    "deletable": true,
    "editable": true
   },
   "outputs": [],
   "source": [
    "def CurrentSolution(CurrentState):\n",
    "    \n",
    "    \"\"\" Estimate the weight and value of current solution.\n",
    "        \n",
    "        Args:\n",
    "            CurrentState(list) - List of counts that corresponds to count of an item in the Sack\n",
    "        \n",
    "        Returns:\n",
    "            CurrentState(list) - List of counts that corresponds to count of an item in the Sack\n",
    "            SackWeight(int) - Weight of Sack at current state\n",
    "            SackValue(int)  - Value worth of items in the sack       \n",
    "    \"\"\"     \n",
    "    CurrentItems = [ItemCount*Item for ItemCount,Item in zip(CurrentState,Items)]\n",
    "    \n",
    "    SackWeight = sum(CurrentItems)   # TotalWeight of Sack\n",
    "\n",
    "    CurrentValue = [ItemCount*Value for ItemCount,Value in zip(CurrentState,Values)]\n",
    "\n",
    "    SackValue = sum(CurrentValue)    # TotalValue of Sack\n",
    "       \n",
    "    return CurrentState, SackWeight, SackValue"
   ]
  },
  {
   "cell_type": "code",
   "execution_count": 76,
   "metadata": {
    "collapsed": true,
    "deletable": true,
    "editable": true
   },
   "outputs": [],
   "source": [
    "def GenerateNeighbor(CurrentState):\n",
    "    \"\"\" Generate neighbors for current solution.\n",
    "    \n",
    "        Args:\n",
    "            CurrentState(list) - List of counts that corresponds to count of an item in the Sack\n",
    "    \n",
    "        Returns:\n",
    "            Neighbor(list) - Neighbour(list)   \n",
    "    \"\"\"\n",
    "    NewState = CurrentState.copy() \n",
    "    NewState[random.randint(0,len(CurrentState)-1)] += StepSize  # Generate the neighbor randomly\n",
    "    \n",
    "    return NewState\n"
   ]
  },
  {
   "cell_type": "code",
   "execution_count": 77,
   "metadata": {
    "collapsed": true,
    "deletable": true,
    "editable": true
   },
   "outputs": [],
   "source": [
    "\n",
    "def EvaluateNeighbor(Neighbor):\n",
    "    \n",
    "    \"\"\" Evaluate the neighbor and return the neighbor, its weight and value\n",
    "\n",
    "        Args:\n",
    "            Neighbor(list) - Neighbour(list) \n",
    "        \n",
    "        Returns:\n",
    "            Neighbor(list) - List of counts that corresponds to count of an item in the Sack\n",
    "            NeighborWeight(int) - Weight of Sack at Neighbor state\n",
    "            NeighborValue(int)  - Value worth of items in the Neighbor sack       \n",
    "    \"\"\"    \n",
    "    NeighborItems = [ItemCount*Item for ItemCount,Item in zip(Neighbor,Items)]\n",
    "    NeighborWeight = sum(NeighborItems)\n",
    "    NeighborValue = [ItemCount*Value for ItemCount,Value in zip(Neighbor,Values)]\n",
    "    NeighborValue = sum(NeighborValue)\n",
    "            \n",
    "    return Neighbor, NeighborWeight, NeighborValue"
   ]
  },
  {
   "cell_type": "code",
   "execution_count": 78,
   "metadata": {
    "collapsed": false,
    "deletable": true,
    "editable": true
   },
   "outputs": [
    {
     "name": "stdout",
     "output_type": "stream",
     "text": [
      "Initial Current State [0, 0, 0, 0, 0]\n",
      "Initial Weight 0 and Value 0\n",
      "--- 0.0 seconds ---\n",
      "Best Solution is [45, 15, 30, 40, 20] with sack weight 14980 and value worth 495000\n",
      "Number of Iterations 30\n"
     ]
    }
   ],
   "source": [
    "\n",
    "#Initialize global variables of the problem.\n",
    "\n",
    "Items = [10, 300, 1, 200, 100]       # Weight of items given\n",
    "NumberOfItems = len(Items)\n",
    "Values = [1000, 4000, 5000, 5000, 2000]\n",
    "\n",
    "DesirableWeight = 15000\n",
    "StepSize = 5         \n",
    "\n",
    "#Ground /Initial state of Hill Climber\n",
    "CurrentState = [0]* NumberOfItems    \n",
    "\n",
    "# CurrentState initialized with random values\n",
    "#CurrentState = [random.randint(0,NumberOfItems) for item in range(NumberOfItems)]\n",
    "print(\"Initial Current State\",CurrentState)\n",
    "CurrentState, CurrentWeight, CurrentValue = CurrentSolution(CurrentState) \n",
    "print(\"Initial Weight %s and Value %s\" %(CurrentWeight, CurrentValue))\n",
    "\n",
    "# *****NOTE: The CurrentState has to be initialized in such a way that the weight of CurrentWeight should be LESS THAN DesirableWeight\n",
    "\n",
    "#Loop until optimal solution is met\n",
    "\n",
    "iterations = 0\n",
    "\n",
    "StartTime = time.time()\n",
    "while True:      \n",
    "\n",
    "    NewNeighbor = GenerateNeighbor(CurrentState)\n",
    "    \n",
    "    Neighbor,NeighborWeight,NeighborValue = EvaluateNeighbor(NewNeighbor)\n",
    "    \n",
    "    if NeighborWeight < DesirableWeight and NeighborValue > CurrentValue :\n",
    "        \n",
    "        CurrentState = Neighbor.copy()\n",
    "        CurrentWeight, CurrentValue = NeighborWeight, NeighborValue\n",
    "        iterations+=1\n",
    "        # print(CurrentState,CurrentWeight, CurrentValue)\n",
    "        # print(\"Number of Iterations\", iterations)\n",
    "        \n",
    "    elif CurrentValue == CurrentValue:     # i.e, No change in CurrentValue outside the loop\n",
    "        break\n",
    "print(\"--- %s seconds ---\" % (time.time() - StartTime))\n",
    "print(\"Best Solution is %s with sack weight %s and value worth %s\" %(CurrentState, CurrentWeight, CurrentValue))\n",
    "print(\"Number of Iterations\", iterations)"
   ]
  },
  {
   "cell_type": "markdown",
   "metadata": {
    "deletable": true,
    "editable": true
   },
   "source": [
    "## Observations:\n",
    "\n",
    "### CurrentState Initialized randomly:\n",
    "\n",
    "#### Faster than conventional Hill Climbers\n",
    "#### Solution/ Endstate arrives in less number of iterations\n",
    "#### Diverse solutions introduced by randomness that contradicts traditional greedy search in Hill climbing algorithm\n",
    "#### Higher the step size , higher the speed and lesser the number of iterations, but less optimal.\n",
    "\n",
    "### CurrentState initialized with GroundState\n",
    "\n",
    "#### Doesn't affect the performance of the algorithm.\n",
    "#### Ground state is balanced by the random search (for neighbor) by the agorithm but acts much slower with low step sizes. \n"
   ]
  },
  {
   "cell_type": "code",
   "execution_count": null,
   "metadata": {
    "collapsed": true,
    "deletable": true,
    "editable": true
   },
   "outputs": [],
   "source": []
  }
 ],
 "metadata": {
  "kernelspec": {
   "display_name": "Python 3",
   "language": "python",
   "name": "python3"
  },
  "language_info": {
   "codemirror_mode": {
    "name": "ipython",
    "version": 3
   },
   "file_extension": ".py",
   "mimetype": "text/x-python",
   "name": "python",
   "nbconvert_exporter": "python",
   "pygments_lexer": "ipython3",
   "version": "3.5.3"
  }
 },
 "nbformat": 4,
 "nbformat_minor": 2
}
